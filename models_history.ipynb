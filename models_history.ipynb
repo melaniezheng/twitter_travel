{
 "cells": [
  {
   "cell_type": "markdown",
   "metadata": {},
   "source": [
    "# Use social sentiment to predict stock price"
   ]
  },
  {
   "cell_type": "code",
   "execution_count": 1,
   "metadata": {},
   "outputs": [],
   "source": [
    "import pandas as pd\n",
    "import datetime\n",
    "import preprocessing\n",
    "\n",
    "# load pre-processsed data see preprocessing.py for details\n",
    "# features are already scaled during preprocessing.\n",
    "X_train, y_train, X_test, y_test, train_dt, test_dt = preprocessing.run_preprocessor(type = \"training\", \n",
    "                                                                                     tweets_file = 'tweets_2020-07-15_2020-07-27.csv', \n",
    "                                                                                     stocks_file = 'JETS_2020-07-15_2020-07-27.csv')"
   ]
  },
  {
   "cell_type": "markdown",
   "metadata": {},
   "source": [
    "## Correlation"
   ]
  },
  {
   "cell_type": "code",
   "execution_count": 2,
   "metadata": {},
   "outputs": [
    {
     "name": "stdout",
     "output_type": "stream",
     "text": [
      "                 verified  followers_count  tweet_count  has_locations  \\\n",
      "verified         1.000000         0.465578    -0.260974      -0.014881   \n",
      "followers_count  0.465578         1.000000    -0.171453       0.027642   \n",
      "tweet_count     -0.260974        -0.171453     1.000000      -0.137574   \n",
      "has_locations   -0.014881         0.027642    -0.137574       1.000000   \n",
      "last_close      -0.043338        -0.045281    -0.044522      -0.011404   \n",
      "last_vol         0.009528        -0.077549    -0.038715      -0.065387   \n",
      "last_pct_change -0.107496         0.104267    -0.099368       0.020965   \n",
      "target          -0.022077        -0.065600    -0.024973      -0.015357   \n",
      "\n",
      "                 last_close  last_vol  last_pct_change    target  \n",
      "verified          -0.043338  0.009528        -0.107496 -0.022077  \n",
      "followers_count   -0.045281 -0.077549         0.104267 -0.065600  \n",
      "tweet_count       -0.044522 -0.038715        -0.099368 -0.024973  \n",
      "has_locations     -0.011404 -0.065387         0.020965 -0.015357  \n",
      "last_close         1.000000  0.023360         0.057178  0.980461  \n",
      "last_vol           0.023360  1.000000        -0.239213  0.070434  \n",
      "last_pct_change    0.057178 -0.239213         1.000000 -0.140306  \n",
      "target             0.980461  0.070434        -0.140306  1.000000  \n"
     ]
    },
    {
     "data": {
      "text/plain": [
       "<matplotlib.axes._subplots.AxesSubplot at 0x7f9081a9b4d0>"
      ]
     },
     "execution_count": 2,
     "metadata": {},
     "output_type": "execute_result"
    },
    {
     "data": {
      "image/png": "[encoded data removed]",
      "text/plain": [
       "<Figure size 432x288 with 2 Axes>"
      ]
     },
     "metadata": {
      "needs_background": "light"
     },
     "output_type": "display_data"
    }
   ],
   "source": [
    "features = pd.read_csv('./data/tmp/features.csv', parse_dates = ['datetime'])\n",
    "# import pandas.rpy.common as com\n",
    "import seaborn as sns\n",
    "%matplotlib inline\n",
    "\n",
    "# calculate the correlation matrix\n",
    "corr = features.corr()\n",
    "print(corr)\n",
    "# plot the heatmap\n",
    "sns.heatmap(corr)"
   ]
  },
  {
   "cell_type": "code",
   "execution_count": 3,
   "metadata": {},
   "outputs": [
    {
     "data": {
      "text/html": [
       "<div>\n",
       "<style scoped>\n",
       "    .dataframe tbody tr th:only-of-type {\n",
       "        vertical-align: middle;\n",
       "    }\n",
       "\n",
       "    .dataframe tbody tr th {\n",
       "        vertical-align: top;\n",
       "    }\n",
       "\n",
       "    .dataframe thead th {\n",
       "        text-align: right;\n",
       "    }\n",
       "</style>\n",
       "<table border=\"1\" class=\"dataframe\">\n",
       "  <thead>\n",
       "    <tr style=\"text-align: right;\">\n",
       "      <th></th>\n",
       "      <th>datetime</th>\n",
       "      <th>verified</th>\n",
       "      <th>followers_count</th>\n",
       "      <th>tweet_count</th>\n",
       "      <th>has_locations</th>\n",
       "      <th>last_close</th>\n",
       "      <th>last_vol</th>\n",
       "      <th>last_pct_change</th>\n",
       "      <th>target</th>\n",
       "    </tr>\n",
       "  </thead>\n",
       "  <tbody>\n",
       "    <tr>\n",
       "      <td>0</td>\n",
       "      <td>2020-07-15 15:15:00</td>\n",
       "      <td>0.055556</td>\n",
       "      <td>16465.277778</td>\n",
       "      <td>18</td>\n",
       "      <td>0.666667</td>\n",
       "      <td>17.1100</td>\n",
       "      <td>402498.0</td>\n",
       "      <td>-0.003494</td>\n",
       "      <td>17.1700</td>\n",
       "    </tr>\n",
       "    <tr>\n",
       "      <td>1</td>\n",
       "      <td>2020-07-15 15:30:00</td>\n",
       "      <td>0.032609</td>\n",
       "      <td>7134.260870</td>\n",
       "      <td>92</td>\n",
       "      <td>0.869565</td>\n",
       "      <td>17.1700</td>\n",
       "      <td>213804.0</td>\n",
       "      <td>-0.004638</td>\n",
       "      <td>17.2500</td>\n",
       "    </tr>\n",
       "    <tr>\n",
       "      <td>2</td>\n",
       "      <td>2020-07-15 15:45:00</td>\n",
       "      <td>0.013889</td>\n",
       "      <td>8031.194444</td>\n",
       "      <td>72</td>\n",
       "      <td>0.902778</td>\n",
       "      <td>17.2500</td>\n",
       "      <td>302492.0</td>\n",
       "      <td>0.001736</td>\n",
       "      <td>17.2201</td>\n",
       "    </tr>\n",
       "    <tr>\n",
       "      <td>3</td>\n",
       "      <td>2020-07-15 16:00:00</td>\n",
       "      <td>0.000000</td>\n",
       "      <td>4301.067164</td>\n",
       "      <td>134</td>\n",
       "      <td>0.805970</td>\n",
       "      <td>17.2201</td>\n",
       "      <td>298626.0</td>\n",
       "      <td>-0.001154</td>\n",
       "      <td>17.2400</td>\n",
       "    </tr>\n",
       "    <tr>\n",
       "      <td>4</td>\n",
       "      <td>2020-07-16 13:45:00</td>\n",
       "      <td>0.133333</td>\n",
       "      <td>38307.933333</td>\n",
       "      <td>15</td>\n",
       "      <td>0.800000</td>\n",
       "      <td>16.7500</td>\n",
       "      <td>54801.0</td>\n",
       "      <td>0.002994</td>\n",
       "      <td>16.7000</td>\n",
       "    </tr>\n",
       "  </tbody>\n",
       "</table>\n",
       "</div>"
      ],
      "text/plain": [
       "             datetime  verified  followers_count  tweet_count  has_locations  \\\n",
       "0 2020-07-15 15:15:00  0.055556     16465.277778           18       0.666667   \n",
       "1 2020-07-15 15:30:00  0.032609      7134.260870           92       0.869565   \n",
       "2 2020-07-15 15:45:00  0.013889      8031.194444           72       0.902778   \n",
       "3 2020-07-15 16:00:00  0.000000      4301.067164          134       0.805970   \n",
       "4 2020-07-16 13:45:00  0.133333     38307.933333           15       0.800000   \n",
       "\n",
       "   last_close  last_vol  last_pct_change   target  \n",
       "0     17.1100  402498.0        -0.003494  17.1700  \n",
       "1     17.1700  213804.0        -0.004638  17.2500  \n",
       "2     17.2500  302492.0         0.001736  17.2201  \n",
       "3     17.2201  298626.0        -0.001154  17.2400  \n",
       "4     16.7500   54801.0         0.002994  16.7000  "
      ]
     },
     "execution_count": 3,
     "metadata": {},
     "output_type": "execute_result"
    }
   ],
   "source": [
    "features.head()"
   ]
  },
  {
   "cell_type": "markdown",
   "metadata": {},
   "source": [
    "# Try models"
   ]
  },
  {
   "cell_type": "code",
   "execution_count": 4,
   "metadata": {},
   "outputs": [
    {
     "name": "stderr",
     "output_type": "stream",
     "text": [
      "Using TensorFlow backend.\n"
     ]
    }
   ],
   "source": [
    "seedn = 1234\n",
    "import numpy as np\n",
    "import datetime\n",
    "import pandas as pd \n",
    "from sklearn.metrics import r2_score, mean_absolute_error, mean_squared_error\n",
    "import matplotlib.pyplot as plt\n",
    "from tqdm._tqdm_notebook import tqdm_notebook\n",
    "\n",
    "import pickle\n",
    "\n",
    "from sklearn.preprocessing import MinMaxScaler\n",
    "from sklearn.model_selection import train_test_split, cross_validate\n",
    "import logging\n",
    "\n",
    "from sklearn.ensemble import RandomForestRegressor\n",
    "from sklearn.neighbors import KNeighborsRegressor\n",
    "import xgboost\n",
    "\n",
    "# neural nets\n",
    "from keras.models import Sequential, load_model\n",
    "from keras.layers import Dense, Dropout, BatchNormalization\n",
    "from keras.layers import LSTM\n",
    "from keras.callbacks import ModelCheckpoint, EarlyStopping\n",
    "from keras import optimizers"
   ]
  },
  {
   "cell_type": "markdown",
   "metadata": {},
   "source": [
    "### Evaluation Metrics"
   ]
  },
  {
   "cell_type": "code",
   "execution_count": 5,
   "metadata": {},
   "outputs": [],
   "source": [
    "from pandas.plotting import register_matplotlib_converters\n",
    "import matplotlib.dates as mdates\n",
    "register_matplotlib_converters()\n",
    "def fit_and_score(model, te_pred, X_tr, y_tr, X_te, y_te, test_datetime, plot=True):\n",
    "    if model is None:\n",
    "        if te_pred is not None:\n",
    "            print(f'Test MAE: {mean_absolute_error(y_te, te_pred)}')\n",
    "        else:\n",
    "            raise ValueError('te_pred is None. Provide test prediction value!')\n",
    "    else:\n",
    "        cv_score = cross_validate(model, X_tr, y_tr, scoring = 'neg_mean_absolute_error', cv = 3, return_train_score = True)\n",
    "        print('Cross-Validation Scores:')\n",
    "        print(\"Train MAE: {m} +/- {sd}\".format(m = round(-np.mean(cv_score['train_score']),5), sd = round(np.std(cv_score['train_score']),4)))\n",
    "        print(\"Eval MAE: {m} +/- {sd}\".format(m = round(-np.mean(cv_score['test_score']),5), sd = round(np.std(cv_score['test_score']),4)))\n",
    "        model.fit(X_tr, y_tr)\n",
    "        print(f'- '*15)\n",
    "        te_pred = model.predict(X_te)\n",
    "        print(f'Test MAE: {mean_absolute_error(y_te, te_pred)}')\n",
    "        \n",
    "    if plot:\n",
    "        ax = plt.gca()\n",
    "        formatter = mdates.DateFormatter(\"%H:%M\")\n",
    "        ax.xaxis.set_major_formatter(formatter)\n",
    "        locator = mdates.HourLocator()\n",
    "        ax.xaxis.set_major_locator(locator)\n",
    "        dt = pd.to_datetime(test_datetime)\n",
    "        plt.title(f'{type(model).__name__}')\n",
    "        plt.plot(test_datetime,y_te)\n",
    "        plt.plot(test_datetime,te_pred)\n",
    "        plt.legend(['actual','prediction'])\n",
    "        plt.show()"
   ]
  },
  {
   "cell_type": "markdown",
   "metadata": {},
   "source": [
    "## Model 1: guess mean of last 4 prices"
   ]
  },
  {
   "cell_type": "code",
   "execution_count": 6,
   "metadata": {},
   "outputs": [
    {
     "name": "stdout",
     "output_type": "stream",
     "text": [
      "(193, 17) (193,)\n",
      "(173, 17) (20, 17) (173,) (20,)\n",
      "Test MAE: 0.03703124999999989\n"
     ]
    },
    {
     "data": {
      "image/png": "[encoded data removed]",
      "text/plain": [
       "<Figure size 432x288 with 1 Axes>"
      ]
     },
     "metadata": {
      "needs_background": "light"
     },
     "output_type": "display_data"
    }
   ],
   "source": [
    "def add_timesteps(df, n):\n",
    "    '''function adds n number of past time step stocks data to the dataset\n",
    "    input: dataframe of features, n: number of past time step stocks data \n",
    "    user wishes to include in the feature vector\n",
    "    output: dataframe with additional past stocks data'''\n",
    "    for i in range(n-1):\n",
    "        origdf = df.copy()\n",
    "        tmp = origdf[['last_close','last_vol','last_pct_change']].shift(i+1).\\\n",
    "        rename(columns={'last_close':f'last_close_t-{i+2}',\n",
    "                        'last_vol':f'last_vol_t-{i+2}',\n",
    "                        'last_pct_change':f'last_pct_change_t-{i+2}'})\n",
    "        df = pd.concat([df,tmp], axis=1)\n",
    "    return df\n",
    "df = features.iloc[:,:-1]\n",
    "price = features.iloc[:,-1]\n",
    "\n",
    "df = add_timesteps(df, 4) # add t-2, t-3, t-4 data\n",
    "df = df.dropna() # drop NaN due to shifting data to achieve past n timesteps\n",
    "y = price.iloc[3:] # drop corresponding prices where feature vector contains NaN\n",
    "print(df.shape, y.shape)\n",
    "\n",
    "x_tr = df.iloc[:-20,]\n",
    "x_te = df.iloc[-20:,]\n",
    "y_tr = y.iloc[:-20,]\n",
    "y_te = y.iloc[-20:,]\n",
    "print(x_tr.shape, x_te.shape, y_tr.shape, y_te.shape)\n",
    "# reshape y\n",
    "\n",
    "guess_last4mean = x_te.apply(lambda x: (x['last_close']+x['last_close_t-2']+x['last_close_t-3']+x['last_close_t-3'])/4, axis = 1)\n",
    "\n",
    "# Evaluate basic model\n",
    "estimator = None\n",
    "fit_and_score(estimator, guess_last4mean, x_tr, y_tr, x_te, y_te, test_dt)"
   ]
  },
  {
   "cell_type": "markdown",
   "metadata": {},
   "source": [
    "## Model 2. Random Forest"
   ]
  },
  {
   "cell_type": "code",
   "execution_count": 7,
   "metadata": {},
   "outputs": [
    {
     "name": "stdout",
     "output_type": "stream",
     "text": [
      "Cross-Validation Scores:\n",
      "Train MAE: 0.01562 +/- 0.0015\n",
      "Eval MAE: 0.08152 +/- 0.0336\n",
      "- - - - - - - - - - - - - - - \n",
      "Test MAE: 0.09600401935594842\n"
     ]
    },
    {
     "data": {
      "image/png": "[encoded data removed]",
      "text/plain": [
       "<Figure size 432x288 with 1 Axes>"
      ]
     },
     "metadata": {
      "needs_background": "light"
     },
     "output_type": "display_data"
    }
   ],
   "source": [
    "rfr = RandomForestRegressor(random_state=seedn, max_depth = 5, n_estimators = 100)\n",
    "fit_and_score(rfr, None, X_train, y_train, X_test, y_test, test_dt)"
   ]
  },
  {
   "cell_type": "markdown",
   "metadata": {},
   "source": [
    "## Model 3: KNN"
   ]
  },
  {
   "cell_type": "code",
   "execution_count": 8,
   "metadata": {},
   "outputs": [
    {
     "name": "stdout",
     "output_type": "stream",
     "text": [
      "Cross-Validation Scores:\n",
      "Train MAE: 0.04983 +/- 0.0076\n",
      "Eval MAE: 0.13361 +/- 0.0535\n",
      "- - - - - - - - - - - - - - - \n",
      "Test MAE: 0.14787000000000008\n"
     ]
    },
    {
     "data": {
      "image/png": "[encoded data removed]",
      "text/plain": [
       "<Figure size 432x288 with 1 Axes>"
      ]
     },
     "metadata": {
      "needs_background": "light"
     },
     "output_type": "display_data"
    }
   ],
   "source": [
    "knn = KNeighborsRegressor(3)\n",
    "sc = MinMaxScaler(feature_range=(0,1))\n",
    "fit_and_score(knn, None, X_train, y_train, X_test, y_test, test_dt)"
   ]
  },
  {
   "cell_type": "markdown",
   "metadata": {},
   "source": [
    "# Neural Nets"
   ]
  },
  {
   "cell_type": "markdown",
   "metadata": {},
   "source": [
    "## LSTM\n",
    "\n",
    "Use 4 time steps"
   ]
  },
  {
   "cell_type": "code",
   "execution_count": 9,
   "metadata": {},
   "outputs": [
    {
     "name": "stdout",
     "output_type": "stream",
     "text": [
      "(176, 8)\n",
      "(20, 8)\n"
     ]
    }
   ],
   "source": [
    "train = features.iloc[:176,1:]\n",
    "test = features.iloc[176:,1:]\n",
    "sc = MinMaxScaler(feature_range=(0,1))\n",
    "x_train = sc.fit_transform(train) # except Datetime column\n",
    "x_test = sc.transform(test) # except Datetime column\n",
    "print(x_train.shape)\n",
    "print(x_test.shape)"
   ]
  },
  {
   "cell_type": "code",
   "execution_count": 10,
   "metadata": {},
   "outputs": [
    {
     "name": "stdout",
     "output_type": "stream",
     "text": [
      "Are any NaNs present in train/test matrices? False False\n",
      "dim_0 172\n"
     ]
    },
    {
     "data": {
      "application/vnd.jupyter.widget-view+json": {
       "model_id": "4e6ac0dc02e44f04b18e17e1c192c3ab",
       "version_major": 2,
       "version_minor": 0
      },
      "text/plain": [
       "HBox(children=(IntProgress(value=0, max=172), HTML(value='')))"
      ]
     },
     "metadata": {},
     "output_type": "display_data"
    },
    {
     "name": "stdout",
     "output_type": "stream",
     "text": [
      "\n",
      "length of time-series i/o (172, 4, 8) (172,)\n",
      "Train size (172, 4, 8) (172,)\n",
      "Batch trimmed size (170, 4, 8) (170,)\n",
      "dim_0 20\n"
     ]
    },
    {
     "data": {
      "application/vnd.jupyter.widget-view+json": {
       "model_id": "0ff9c8798e864625b598c0ef7dc92efe",
       "version_major": 2,
       "version_minor": 0
      },
      "text/plain": [
       "HBox(children=(IntProgress(value=0, max=20), HTML(value='')))"
      ]
     },
     "metadata": {},
     "output_type": "display_data"
    },
    {
     "name": "stdout",
     "output_type": "stream",
     "text": [
      "\n",
      "length of time-series i/o (20, 4, 8) (20,)\n",
      "Test size (20, 4, 8) (20,)\n",
      "Batch trimmed size (20, 4, 8) (20,)\n"
     ]
    }
   ],
   "source": [
    "params = {\n",
    "    \"batch_size\": 5,  # 20<16<10, 25 was a bust\n",
    "    \"epochs\": 500,\n",
    "    \"lr\": 0.050000,\n",
    "    \"time_steps\": 4\n",
    "}\n",
    "\n",
    "iter_changes = \"dropout_layers_0.4_0.4\"\n",
    "TIME_STEPS = params[\"time_steps\"]\n",
    "BATCH_SIZE = params['batch_size']\n",
    "\n",
    "def trim_dataset(mat,batch_size):\n",
    "    \"\"\"\n",
    "    trims dataset to a size that's divisible by BATCH_SIZE\n",
    "    \"\"\"\n",
    "    no_of_rows_drop = mat.shape[0]%batch_size\n",
    "    if no_of_rows_drop > 0:\n",
    "        return mat[:-no_of_rows_drop]\n",
    "    else:\n",
    "        return mat\n",
    "\n",
    "def build_timeseries(mat, y_col_index):\n",
    "    \"\"\"\n",
    "    https://github.com/nayash/Stock-Price-Prediction/blob/master/stock_pred_main.py\n",
    "    Converts ndarray into timeseries format and supervised data format. Takes first TIME_STEPS\n",
    "    number of rows as input and sets the TIME_STEPS+1th data as corresponding output and so on.\n",
    "    :param mat: ndarray which holds the dataset\n",
    "    :param y_col_index: index of column which acts as output\n",
    "    :return: returns two ndarrays-- input and output in format suitable to feed\n",
    "    to LSTM.\n",
    "    \"\"\"\n",
    "    # total number of time-series samples would be len(mat) - TIME_STEPS\n",
    "    dim_0 = mat.shape[0] - TIME_STEPS\n",
    "    dim_1 = mat.shape[1]\n",
    "    x = np.zeros((dim_0, TIME_STEPS, dim_1))\n",
    "    y = np.zeros((dim_0,))\n",
    "    print(\"dim_0\",dim_0)\n",
    "    for i in tqdm_notebook(range(dim_0)):\n",
    "        x[i] = mat[i:TIME_STEPS+i]\n",
    "        y[i] = mat[TIME_STEPS+i, y_col_index]\n",
    "#         if i < 10:\n",
    "#           print(i,\"-->\", x[i,-1,:], y[i])\n",
    "    print(\"length of time-series i/o\",x.shape,y.shape)\n",
    "    return x, y\n",
    "\n",
    "print(\"Are any NaNs present in train/test matrices?\",np.isnan(x_train).any(), np.isnan(x_train).any())\n",
    "x_t, y_t = build_timeseries(x_train, 7)\n",
    "print(\"Train size\",x_t.shape, y_t.shape)\n",
    "x_t = trim_dataset(x_t, BATCH_SIZE)\n",
    "y_t = trim_dataset(y_t, BATCH_SIZE)\n",
    "print(\"Batch trimmed size\",x_t.shape, y_t.shape)\n",
    "# append last 4 timesteps from training set to test set.\n",
    "last4tr = x_train[-4:,:]\n",
    "x_test = np.append(last4tr, x_test, axis=0)\n",
    "x_test_t, y_test_t = build_timeseries(x_test, 7)\n",
    "print(\"Test size\", x_test_t.shape, y_test_t.shape)\n",
    "x_test_t = trim_dataset(x_test_t, BATCH_SIZE)\n",
    "y_test_t = trim_dataset(y_test_t, BATCH_SIZE)\n",
    "print(\"Batch trimmed size\",x_test_t.shape, y_test_t.shape)"
   ]
  },
  {
   "cell_type": "code",
   "execution_count": 13,
   "metadata": {},
   "outputs": [],
   "source": [
    "from matplotlib import pyplot as plt\n",
    "def plot_model_loss(history):\n",
    "    plt.figure()\n",
    "    plt.plot(history.history['loss'])\n",
    "    plt.plot(history.history['val_loss'])\n",
    "    plt.title('Model loss')\n",
    "    plt.ylabel('Loss')\n",
    "    plt.xlabel('Epoch')\n",
    "    plt.legend(['Train', 'Test'], loc='upper left')\n",
    "    plt.show()"
   ]
  },
  {
   "cell_type": "code",
   "execution_count": 15,
   "metadata": {
    "scrolled": true
   },
   "outputs": [],
   "source": [
    "def lstm_model():\n",
    "    model = Sequential()\n",
    "\n",
    "    model.add(LSTM(units=50,return_sequences=True,input_shape=(TIME_STEPS, x_t.shape[2])))\n",
    "    model.add(BatchNormalization())\n",
    "    model.add(Dropout(0.5))\n",
    "\n",
    "    model.add(LSTM(units=50))\n",
    "    model.add(BatchNormalization())\n",
    "    model.add(Dropout(0.5))\n",
    "\n",
    "    model.add(Dense(units=1))\n",
    "\n",
    "    adam = optimizers.Adam(learning_rate = params['lr'])\n",
    "    model.compile(optimizer=adam,loss='mean_squared_error')\n",
    "    return model\n",
    "\n",
    "lstm = lstm_model()\n",
    "es = EarlyStopping(monitor='val_loss', mode='min', patience=7)\n",
    "cp = ModelCheckpoint(filepath='./models/model.{epoch:02d}-{val_loss:.2f}.h5')\n",
    "my_callbacks = [es,cp]\n",
    "history = lstm.fit(x_t,y_t,epochs=params['epochs'],batch_size=params['batch_size'], \n",
    "                    validation_split=0.2, callbacks=my_callbacks)"
   ]
  },
  {
   "cell_type": "code",
   "execution_count": 13,
   "metadata": {},
   "outputs": [
    {
     "name": "stdout",
     "output_type": "stream",
     "text": [
      "Test MAE: 0.5384848988342285\n"
     ]
    },
    {
     "data": {
      "image/png": "[encoded data removed]",
      "text/plain": [
       "<Figure size 432x288 with 1 Axes>"
      ]
     },
     "metadata": {
      "needs_background": "light"
     },
     "output_type": "display_data"
    }
   ],
   "source": [
    "y_pred = lstm.predict(x_test_t)\n",
    "# convert the predicted value to range of real data\n",
    "y_pred_org = (y_pred * sc.data_range_[7]) + sc.data_min_[7]\n",
    "y_te = test.iloc[:,-1]\n",
    "estimator = None\n",
    "fit_and_score(estimator, y_pred_org,x_train, y_train, x_test, y_test, test_dt)"
   ]
  },
  {
   "cell_type": "markdown",
   "metadata": {},
   "source": [
    "## FFNN"
   ]
  },
  {
   "cell_type": "code",
   "execution_count": 10,
   "metadata": {},
   "outputs": [],
   "source": [
    "def ffnn(num_layers, neurons):\n",
    "    '''build ffnn\n",
    "    input: \n",
    "    num_layers, integer, \n",
    "    neurons, list of integers\n",
    "    output:\n",
    "    modl'''\n",
    "    model = Sequential()\n",
    "    for l in range(num_layers):\n",
    "        model.add(Dense(neurons[l]))\n",
    "    model.add(Dense(1))\n",
    "    adam = optimizers.Adam(learning_rate = params['lr'])\n",
    "    model.compile(optimizer=adam,loss='mean_squared_error')\n",
    "\n",
    "    return model"
   ]
  },
  {
   "cell_type": "code",
   "execution_count": 16,
   "metadata": {
    "scrolled": true
   },
   "outputs": [
    {
     "name": "stdout",
     "output_type": "stream",
     "text": [
      "(176, 7)\n",
      "(20, 7)\n",
      "Train on 140 samples, validate on 36 samples\n",
      "Epoch 1/500\n",
      "140/140 [==============================] - 1s 4ms/step - loss: 40.2434 - val_loss: 5.1178\n",
      "\n",
      "Epoch 00001: val_loss improved from inf to 5.11777, saving model to ./models/checkpoints/ffnn50.01-5.12.h5\n",
      "Epoch 2/500\n",
      "140/140 [==============================] - 0s 321us/step - loss: 3.4490 - val_loss: 1.7618\n",
      "\n",
      "Epoch 00002: val_loss improved from 5.11777 to 1.76178, saving model to ./models/checkpoints/ffnn50.02-1.76.h5\n",
      "Epoch 3/500\n",
      "140/140 [==============================] - 0s 324us/step - loss: 1.9006 - val_loss: 1.3042\n",
      "\n",
      "Epoch 00003: val_loss improved from 1.76178 to 1.30419, saving model to ./models/checkpoints/ffnn50.03-1.30.h5\n",
      "Epoch 4/500\n",
      "140/140 [==============================] - 0s 343us/step - loss: 1.6340 - val_loss: 1.1151\n",
      "\n",
      "Epoch 00004: val_loss improved from 1.30419 to 1.11511, saving model to ./models/checkpoints/ffnn50.04-1.12.h5\n",
      "Epoch 5/500\n",
      "140/140 [==============================] - 0s 354us/step - loss: 1.3351 - val_loss: 1.0391\n",
      "\n",
      "Epoch 00005: val_loss improved from 1.11511 to 1.03912, saving model to ./models/checkpoints/ffnn50.05-1.04.h5\n",
      "Epoch 6/500\n",
      "140/140 [==============================] - 0s 305us/step - loss: 0.9845 - val_loss: 0.7078\n",
      "\n",
      "Epoch 00006: val_loss improved from 1.03912 to 0.70777, saving model to ./models/checkpoints/ffnn50.06-0.71.h5\n",
      "Epoch 7/500\n",
      "140/140 [==============================] - 0s 331us/step - loss: 0.6603 - val_loss: 0.2936\n",
      "\n",
      "Epoch 00007: val_loss improved from 0.70777 to 0.29363, saving model to ./models/checkpoints/ffnn50.07-0.29.h5\n",
      "Epoch 8/500\n",
      "140/140 [==============================] - 0s 294us/step - loss: 0.3193 - val_loss: 0.1859\n",
      "\n",
      "Epoch 00008: val_loss improved from 0.29363 to 0.18590, saving model to ./models/checkpoints/ffnn50.08-0.19.h5\n",
      "Epoch 9/500\n",
      "140/140 [==============================] - 0s 329us/step - loss: 0.1999 - val_loss: 0.2600\n",
      "\n",
      "Epoch 00009: val_loss did not improve from 0.18590\n",
      "Epoch 10/500\n",
      "140/140 [==============================] - 0s 302us/step - loss: 0.0904 - val_loss: 0.0352\n",
      "\n",
      "Epoch 00010: val_loss improved from 0.18590 to 0.03519, saving model to ./models/checkpoints/ffnn50.10-0.04.h5\n",
      "Epoch 11/500\n",
      "140/140 [==============================] - 0s 317us/step - loss: 0.0184 - val_loss: 0.0048\n",
      "\n",
      "Epoch 00011: val_loss improved from 0.03519 to 0.00477, saving model to ./models/checkpoints/ffnn50.11-0.00.h5\n",
      "Epoch 12/500\n",
      "140/140 [==============================] - 0s 324us/step - loss: 0.0060 - val_loss: 0.0031\n",
      "\n",
      "Epoch 00012: val_loss improved from 0.00477 to 0.00306, saving model to ./models/checkpoints/ffnn50.12-0.00.h5\n",
      "Epoch 13/500\n",
      "140/140 [==============================] - 0s 280us/step - loss: 0.0012 - val_loss: 6.6252e-04\n",
      "\n",
      "Epoch 00013: val_loss improved from 0.00306 to 0.00066, saving model to ./models/checkpoints/ffnn50.13-0.00.h5\n",
      "Epoch 14/500\n",
      "140/140 [==============================] - 0s 314us/step - loss: 2.1117e-04 - val_loss: 3.2925e-04\n",
      "\n",
      "Epoch 00014: val_loss improved from 0.00066 to 0.00033, saving model to ./models/checkpoints/ffnn50.14-0.00.h5\n",
      "Epoch 15/500\n",
      "140/140 [==============================] - 0s 332us/step - loss: 1.1380e-04 - val_loss: 2.0948e-05\n",
      "\n",
      "Epoch 00015: val_loss improved from 0.00033 to 0.00002, saving model to ./models/checkpoints/ffnn50.15-0.00.h5\n",
      "Epoch 16/500\n",
      "140/140 [==============================] - 0s 315us/step - loss: 8.1858e-06 - val_loss: 1.2445e-05\n",
      "\n",
      "Epoch 00016: val_loss improved from 0.00002 to 0.00001, saving model to ./models/checkpoints/ffnn50.16-0.00.h5\n",
      "Epoch 17/500\n",
      "140/140 [==============================] - 0s 530us/step - loss: 7.1021e-06 - val_loss: 3.2487e-06\n",
      "\n",
      "Epoch 00017: val_loss improved from 0.00001 to 0.00000, saving model to ./models/checkpoints/ffnn50.17-0.00.h5\n",
      "Epoch 18/500\n",
      "140/140 [==============================] - 0s 343us/step - loss: 2.2237e-06 - val_loss: 1.4570e-06\n",
      "\n",
      "Epoch 00018: val_loss improved from 0.00000 to 0.00000, saving model to ./models/checkpoints/ffnn50.18-0.00.h5\n",
      "Epoch 19/500\n",
      "140/140 [==============================] - 0s 307us/step - loss: 1.7383e-06 - val_loss: 7.7285e-07\n",
      "\n",
      "Epoch 00019: val_loss improved from 0.00000 to 0.00000, saving model to ./models/checkpoints/ffnn50.19-0.00.h5\n",
      "Epoch 20/500\n",
      "140/140 [==============================] - 0s 319us/step - loss: 1.3777e-06 - val_loss: 1.4460e-06\n",
      "\n",
      "Epoch 00020: val_loss did not improve from 0.00000\n",
      "Epoch 21/500\n",
      "140/140 [==============================] - 0s 302us/step - loss: 2.8975e-06 - val_loss: 6.6963e-06\n",
      "\n",
      "Epoch 00021: val_loss did not improve from 0.00000\n",
      "Epoch 22/500\n",
      "140/140 [==============================] - 0s 311us/step - loss: 3.3030e-06 - val_loss: 1.0362e-06\n",
      "\n",
      "Epoch 00022: val_loss did not improve from 0.00000\n",
      "Epoch 23/500\n",
      "140/140 [==============================] - 0s 323us/step - loss: 1.6835e-06 - val_loss: 1.5735e-06\n",
      "\n",
      "Epoch 00023: val_loss did not improve from 0.00000\n",
      "Epoch 24/500\n",
      "140/140 [==============================] - 0s 328us/step - loss: 1.8855e-06 - val_loss: 8.7085e-07\n",
      "\n",
      "Epoch 00024: val_loss did not improve from 0.00000\n",
      "Epoch 25/500\n",
      "140/140 [==============================] - 0s 296us/step - loss: 2.6073e-06 - val_loss: 2.7560e-06\n",
      "\n",
      "Epoch 00025: val_loss did not improve from 0.00000\n",
      "Epoch 26/500\n",
      "140/140 [==============================] - 0s 291us/step - loss: 1.8743e-06 - val_loss: 1.4248e-06\n",
      "\n",
      "Epoch 00026: val_loss did not improve from 0.00000\n"
     ]
    },
    {
     "data": {
      "image/png": "[encoded data removed]",
      "text/plain": [
       "<Figure size 432x288 with 1 Axes>"
      ]
     },
     "metadata": {
      "needs_background": "light"
     },
     "output_type": "display_data"
    }
   ],
   "source": [
    "iter_changes = \"dropout_layers_0.4_0.4\"\n",
    "TIME_STEPS = params[\"time_steps\"]\n",
    "BATCH_SIZE = params['batch_size']\n",
    "\n",
    "\n",
    "ffnn50 = ffnn(1,[50])\n",
    "es = EarlyStopping(monitor='val_loss', mode='min', patience=7)\n",
    "cp = ModelCheckpoint(filepath='./models/checkpoints/ffnn50.{epoch:02d}-{val_loss:.2f}.h5',monitor='val_loss', \\\n",
    "    verbose=1,save_best_only=True, save_weights_only=False, mode='min')\n",
    "my_callbacks = [es,cp]\n",
    "\n",
    "print(X_train.shape)\n",
    "print(X_test.shape)\n",
    "history = ffnn50.fit(X_train,y_train.values,epochs=params['epochs'],batch_size=params['batch_size'], \n",
    "                        validation_split=0.2, callbacks=my_callbacks)\n",
    "plot_model_loss(history, 'ffnn50_test_accuracy.png')"
   ]
  },
  {
   "cell_type": "code",
   "execution_count": 18,
   "metadata": {},
   "outputs": [
    {
     "name": "stdout",
     "output_type": "stream",
     "text": [
      "saving model...\n"
     ]
    }
   ],
   "source": [
    "print(\"saving model...\")\n",
    "import pickle\n",
    "pickle.dump(ffnn50, open(\"./models/ffnn50\", \"wb\"))"
   ]
  },
  {
   "cell_type": "code",
   "execution_count": 23,
   "metadata": {},
   "outputs": [
    {
     "name": "stdout",
     "output_type": "stream",
     "text": [
      "Test MAE: 0.0009964263153076302\n"
     ]
    },
    {
     "data": {
      "image/png": "[encoded data removed]",
      "text/plain": [
       "<Figure size 576x288 with 1 Axes>"
      ]
     },
     "metadata": {
      "needs_background": "light"
     },
     "output_type": "display_data"
    }
   ],
   "source": [
    "y_pred = ffnn50.predict(X_test)\n",
    "estimator = None\n",
    "fit_and_score(estimator, y_pred, X_train, y_train, X_test, y_test, test_dt)"
   ]
  },
  {
   "cell_type": "code",
   "execution_count": null,
   "metadata": {},
   "outputs": [],
   "source": []
  }
 ],
 "metadata": {
  "kernelspec": {
   "display_name": "Python 3",
   "language": "python",
   "name": "python3"
  },
  "language_info": {
   "codemirror_mode": {
    "name": "ipython",
    "version": 3
   },
   "file_extension": ".py",
   "mimetype": "text/x-python",
   "name": "python",
   "nbconvert_exporter": "python",
   "pygments_lexer": "ipython3",
   "version": "3.7.4"
  }
 },
 "nbformat": 4,
 "nbformat_minor": 2
}
